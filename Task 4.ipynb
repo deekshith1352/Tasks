{
 "cells": [
  {
   "cell_type": "code",
   "execution_count": null,
   "id": "1269ef3b",
   "metadata": {},
   "outputs": [],
   "source": []
  },
  {
   "cell_type": "code",
   "execution_count": 2,
   "id": "8b17ccc5",
   "metadata": {},
   "outputs": [
    {
     "data": {
      "text/plain": [
       "[10, 20, [30, 40, [50, 60, 70], 80], 90, 100]"
      ]
     },
     "execution_count": 2,
     "metadata": {},
     "output_type": "execute_result"
    }
   ],
   "source": [
    "#Add item 70 after 60 in the following Python List\n",
    "#input\n",
    "l1 = [10, 20, [30, 40, [50, 60], 80], 90, 100]\n",
    "\n",
    "l1[2][2].insert(2,70)\n",
    "l1\n",
    "#output\n",
    "#[10, 20, [30, 40, [50, 60, 70], 80], 90, 100]"
   ]
  },
  {
   "cell_type": "code",
   "execution_count": 4,
   "id": "8f3fbaf1",
   "metadata": {},
   "outputs": [
    {
     "data": {
      "text/plain": [
       "[1, 2, [3, 4, 5, 6, [7, 8]], 9]"
      ]
     },
     "execution_count": 4,
     "metadata": {},
     "output_type": "execute_result"
    }
   ],
   "source": [
    "#add sublist [7,8] after 6\n",
    "#input\n",
    "l2 = [1,2,[3,4,5,6],9]\n",
    "\n",
    "l2[2].insert(4,[7,8])\n",
    "l2\n",
    "#output\n",
    "#[1,2,[3,4,5,6,[7,8]],9]"
   ]
  },
  {
   "cell_type": "code",
   "execution_count": null,
   "id": "85b0107b",
   "metadata": {},
   "outputs": [],
   "source": []
  }
 ],
 "metadata": {
  "kernelspec": {
   "display_name": "Python 3",
   "language": "python",
   "name": "python3"
  },
  "language_info": {
   "codemirror_mode": {
    "name": "ipython",
    "version": 3
   },
   "file_extension": ".py",
   "mimetype": "text/x-python",
   "name": "python",
   "nbconvert_exporter": "python",
   "pygments_lexer": "ipython3",
   "version": "3.8.8"
  }
 },
 "nbformat": 4,
 "nbformat_minor": 5
}
