{
 "cells": [
  {
   "cell_type": "markdown",
   "id": "04e3df9a",
   "metadata": {},
   "source": [
    "# Task 7\n",
    "1)symmetric_difference()\n",
    "\n",
    "If there are a set1 and set2, then the symmetric difference between them will be equal to the union of set1 and set2 without the intersection between the two."
   ]
  },
  {
   "cell_type": "code",
   "execution_count": 2,
   "id": "7ac02d12",
   "metadata": {
    "scrolled": true
   },
   "outputs": [
    {
     "data": {
      "text/plain": [
       "{1, 2, 5, 6, 7, 9}"
      ]
     },
     "execution_count": 2,
     "metadata": {},
     "output_type": "execute_result"
    }
   ],
   "source": [
    "#Symmetric Difference\n",
    "\n",
    "\n",
    "set1 = {1, 2, 3, 4, 5}\n",
    "set2 = {6, 7, 3, 9, 4}\n",
    "set1.symmetric_difference(set2)"
   ]
  },
  {
   "cell_type": "markdown",
   "id": "9e8007a7",
   "metadata": {},
   "source": [
    "2)difference()\n",
    "\n",
    "\n",
    "It will give output of elements present in set1 but not in set1"
   ]
  },
  {
   "cell_type": "code",
   "execution_count": 3,
   "id": "cd9798de",
   "metadata": {},
   "outputs": [
    {
     "data": {
      "text/plain": [
       "{1, 2, 5}"
      ]
     },
     "execution_count": 3,
     "metadata": {},
     "output_type": "execute_result"
    }
   ],
   "source": [
    "#difference()\n",
    "set1 = {1, 2, 3, 4, 5}\n",
    "set2 = {6, 7, 3, 9, 4}\n",
    "set1.difference(set2)"
   ]
  },
  {
   "cell_type": "markdown",
   "id": "b6a84f51",
   "metadata": {},
   "source": []
  },
  {
   "cell_type": "code",
   "execution_count": null,
   "id": "ae670956",
   "metadata": {},
   "outputs": [],
   "source": []
  }
 ],
 "metadata": {
  "kernelspec": {
   "display_name": "Python 3",
   "language": "python",
   "name": "python3"
  },
  "language_info": {
   "codemirror_mode": {
    "name": "ipython",
    "version": 3
   },
   "file_extension": ".py",
   "mimetype": "text/x-python",
   "name": "python",
   "nbconvert_exporter": "python",
   "pygments_lexer": "ipython3",
   "version": "3.8.8"
  }
 },
 "nbformat": 4,
 "nbformat_minor": 5
}
