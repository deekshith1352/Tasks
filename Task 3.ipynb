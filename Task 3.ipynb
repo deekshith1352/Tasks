{
 "cells": [
  {
   "cell_type": "markdown",
   "id": "23d6b447",
   "metadata": {},
   "source": [
    "# Task 3.1\n",
    "\n",
    "go through other inbuilt methods like remove(),count(),clear(),sort(),reverse()\n"
   ]
  },
  {
   "cell_type": "markdown",
   "id": "0d279e4f",
   "metadata": {},
   "source": [
    "# remove()\n",
    "\n",
    "\n",
    " Python List remove () is an inbuilt function in the Python programming language that removes a given object from the List . The method does not return any value but removes the given object from the list. If the element doesn’t exist, it throws ValueError: list.remove (x): x not in list exception.\n"
   ]
  },
  {
   "cell_type": "code",
   "execution_count": 4,
   "id": "a5ef1191",
   "metadata": {},
   "outputs": [
    {
     "data": {
      "text/plain": [
       "[1, 2, 3, 4, 5, 6, 7, 9, 'Mango', 'Apple', True]"
      ]
     },
     "execution_count": 4,
     "metadata": {},
     "output_type": "execute_result"
    }
   ],
   "source": [
    "# remove()\n",
    "\n",
    "\n",
    "list = [1,2,3,4,5,6,7,8,9, \"Mango\", \"Apple\", True]\n",
    "list.remove(8)\n",
    "list"
   ]
  },
  {
   "cell_type": "markdown",
   "id": "d6032923",
   "metadata": {},
   "source": [
    "# count()\n",
    "\n",
    "Python List count() is an inbuilt function in Python that returns the count of how many times a given object occurs in a List. The count() function is used to count elements on a list as well as a string."
   ]
  },
  {
   "cell_type": "code",
   "execution_count": 6,
   "id": "a2d63eeb",
   "metadata": {},
   "outputs": [
    {
     "data": {
      "text/plain": [
       "1"
      ]
     },
     "execution_count": 6,
     "metadata": {},
     "output_type": "execute_result"
    }
   ],
   "source": [
    "list\n",
    "list.count(3)"
   ]
  },
  {
   "cell_type": "markdown",
   "id": "d7e1857a",
   "metadata": {},
   "source": [
    "# sort()\n",
    "\n",
    "The sort function can be used to sort the list in both ascending and descending order."
   ]
  },
  {
   "cell_type": "code",
   "execution_count": 10,
   "id": "d06c5f8a",
   "metadata": {},
   "outputs": [
    {
     "data": {
      "text/plain": [
       "[2, 3, 6, 6, 7, 8, 9, 16, 25, 45, 89]"
      ]
     },
     "execution_count": 10,
     "metadata": {},
     "output_type": "execute_result"
    }
   ],
   "source": [
    "number=[2,6,9,8,3,6,7,16,25,89,45]\n",
    "number.sort()\n",
    "number"
   ]
  },
  {
   "cell_type": "markdown",
   "id": "342eb23a",
   "metadata": {},
   "source": [
    "# reverse() \n",
    "\n",
    "The reverse() method reverses the sorting order of the elements."
   ]
  },
  {
   "cell_type": "code",
   "execution_count": 12,
   "id": "b3efbb42",
   "metadata": {},
   "outputs": [
    {
     "data": {
      "text/plain": [
       "[2, 3, 6, 6, 7, 8, 9, 16, 25, 45, 89]"
      ]
     },
     "execution_count": 12,
     "metadata": {},
     "output_type": "execute_result"
    }
   ],
   "source": [
    "number.reverse()\n",
    "number"
   ]
  },
  {
   "cell_type": "markdown",
   "id": "82755201",
   "metadata": {},
   "source": [
    "# clear()\n",
    "\n",
    "clear function is used clear the list "
   ]
  },
  {
   "cell_type": "code",
   "execution_count": 13,
   "id": "91be0b28",
   "metadata": {},
   "outputs": [
    {
     "data": {
      "text/plain": [
       "[]"
      ]
     },
     "execution_count": 13,
     "metadata": {},
     "output_type": "execute_result"
    }
   ],
   "source": [
    "number.clear()\n",
    "number"
   ]
  },
  {
   "cell_type": "markdown",
   "id": "47ab287e",
   "metadata": {},
   "source": [
    "# Task 3.2 \n",
    "\n",
    "create a list of lenght = 10 and access 5th to 8th data."
   ]
  },
  {
   "cell_type": "code",
   "execution_count": 16,
   "id": "96581036",
   "metadata": {},
   "outputs": [
    {
     "data": {
      "text/plain": [
       "[7, 8, 9, 16]"
      ]
     },
     "execution_count": 16,
     "metadata": {},
     "output_type": "execute_result"
    }
   ],
   "source": [
    "num= [2, 3, 6, 6, 7, 8, 9, 16, 25, 45]\n",
    "num[4:8]"
   ]
  },
  {
   "cell_type": "code",
   "execution_count": null,
   "id": "58ab204e",
   "metadata": {},
   "outputs": [],
   "source": []
  }
 ],
 "metadata": {
  "kernelspec": {
   "display_name": "Python 3",
   "language": "python",
   "name": "python3"
  },
  "language_info": {
   "codemirror_mode": {
    "name": "ipython",
    "version": 3
   },
   "file_extension": ".py",
   "mimetype": "text/x-python",
   "name": "python",
   "nbconvert_exporter": "python",
   "pygments_lexer": "ipython3",
   "version": "3.8.8"
  }
 },
 "nbformat": 4,
 "nbformat_minor": 5
}
