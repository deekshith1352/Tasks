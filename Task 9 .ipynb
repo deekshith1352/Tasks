{
 "cells": [
  {
   "cell_type": "code",
   "execution_count": 1,
   "id": "512dff2a",
   "metadata": {},
   "outputs": [
    {
     "name": "stdout",
     "output_type": "stream",
     "text": [
      "Enter the first number:9\n",
      "Enter the second number:4\n",
      "Enter 1 for Addition of numbers\n",
      "Enter 2 for Subtraction of numbers\n",
      "Enter 3 for Multiply numbers\n",
      "Enter 4 for Division of numbers\n",
      "3\n",
      "36\n"
     ]
    }
   ],
   "source": [
    "#  Ask 2 numbers from users and store it in num1 and num2\n",
    "#  Ask user to press 1 for addition,2 for subtraction,3 for multiplication and 4 for division\n",
    "#  based on number given by user do the math operation\n",
    "\n",
    "n1= int(input(\"Enter the first number:\"))\n",
    "n2= int(input(\"Enter the second number:\"))\n",
    "\n",
    "print(\"Enter 1 for Addition of numbers\")\n",
    "print(\"Enter 2 for Subtraction of numbers\")\n",
    "print(\"Enter 3 for Multiply numbers\")\n",
    "print(\"Enter 4 for Division of numbers\")\n",
    "\n",
    "n3=input()\n",
    "\n",
    "if n3=='1':\n",
    "    print((n1 + n2))\n",
    "elif n3=='2':\n",
    "    print((n1-n2))\n",
    "elif n3=='3':\n",
    "    print((n1*n2))\n",
    "elif n3=='4':\n",
    "    print((n1/n2))\n",
    "else:\n",
    "    print(\"\\nInvalid Operator!\")\n",
    "\n",
    "\n",
    "\n",
    "        "
   ]
  },
  {
   "cell_type": "code",
   "execution_count": null,
   "id": "fefa4e6f",
   "metadata": {},
   "outputs": [],
   "source": []
  }
 ],
 "metadata": {
  "kernelspec": {
   "display_name": "Python 3",
   "language": "python",
   "name": "python3"
  },
  "language_info": {
   "codemirror_mode": {
    "name": "ipython",
    "version": 3
   },
   "file_extension": ".py",
   "mimetype": "text/x-python",
   "name": "python",
   "nbconvert_exporter": "python",
   "pygments_lexer": "ipython3",
   "version": "3.8.8"
  }
 },
 "nbformat": 4,
 "nbformat_minor": 5
}
