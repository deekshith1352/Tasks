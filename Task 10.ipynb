{
 "cells": [
  {
   "cell_type": "markdown",
   "id": "88228145",
   "metadata": {},
   "source": [
    "# Task 10\n",
    "\n",
    "    \n",
    "    \n",
    "\n"
   ]
  },
  {
   "cell_type": "markdown",
   "id": "887b1328",
   "metadata": {},
   "source": [
    "1) using while loop print numbers from 10 to 1"
   ]
  },
  {
   "cell_type": "code",
   "execution_count": 1,
   "id": "04545940",
   "metadata": {
    "scrolled": true
   },
   "outputs": [
    {
     "name": "stdout",
     "output_type": "stream",
     "text": [
      "10\n",
      "9\n",
      "8\n",
      "7\n",
      "6\n",
      "5\n",
      "4\n",
      "3\n",
      "2\n",
      "1\n"
     ]
    }
   ],
   "source": [
    "count = 10\n",
    "while(count>0):\n",
    "    print(count)\n",
    "    count = count - 1"
   ]
  },
  {
   "cell_type": "markdown",
   "id": "059c6a40",
   "metadata": {},
   "source": [
    " 2) try using for loop to loop over tuples,sets and dictionaries"
   ]
  },
  {
   "cell_type": "code",
   "execution_count": 2,
   "id": "3626142f",
   "metadata": {},
   "outputs": [
    {
     "name": "stdout",
     "output_type": "stream",
     "text": [
      "1\n",
      "2\n",
      "3\n",
      "4\n",
      "5\n",
      "6\n",
      "7\n",
      "8\n",
      "9\n"
     ]
    }
   ],
   "source": [
    "#Looping over tuple\n",
    "\n",
    "tup= (1,2,3,4,5,6,7,8,9)\n",
    "for value in tup:\n",
    "    print(value)\n"
   ]
  },
  {
   "cell_type": "code",
   "execution_count": 3,
   "id": "865624c4",
   "metadata": {},
   "outputs": [
    {
     "name": "stdout",
     "output_type": "stream",
     "text": [
      "1\n",
      "3\n",
      "5\n",
      "7\n",
      "9\n",
      "Apple\n",
      "Mango\n",
      "Red\n"
     ]
    }
   ],
   "source": [
    "#Looping over Set\n",
    "\n",
    "set= {\"Apple\", \"Mango\", \"Red\", 1,3,5,9,7}\n",
    "for value in set:\n",
    "    print(value)"
   ]
  },
  {
   "cell_type": "code",
   "execution_count": 4,
   "id": "003d7f02",
   "metadata": {},
   "outputs": [
    {
     "name": "stdout",
     "output_type": "stream",
     "text": [
      "brand Maruti\n",
      "model Swift\n",
      "year 2020\n"
     ]
    }
   ],
   "source": [
    "#Looping over Dictionary\n",
    "\n",
    "Car = {\n",
    "  \"brand\": \"Maruti\",\n",
    "  \"model\": \"Swift\",\n",
    "  \"year\": 2020\n",
    "}\n",
    "for x, y in Car.items():\n",
    "  print(x, y)"
   ]
  },
  {
   "cell_type": "markdown",
   "id": "d9c52dd2",
   "metadata": {},
   "source": [
    "# Task 10.1\n",
    "\n",
    "what is the uasge of continue wiith an example."
   ]
  },
  {
   "cell_type": "markdown",
   "id": "197bbac3",
   "metadata": {},
   "source": [
    "# continue\n",
    "\n",
    "continue keyword takes the execution to the begining of the loop. In other word it skips that perticular iteration\n"
   ]
  },
  {
   "cell_type": "code",
   "execution_count": 5,
   "id": "9ede8a61",
   "metadata": {},
   "outputs": [
    {
     "name": "stdout",
     "output_type": "stream",
     "text": [
      "Deekshith\n",
      "Amar\n",
      "Pavan\n",
      "Rakshith\n"
     ]
    }
   ],
   "source": [
    "students = [\"Deekshith\", \"Amar\", \"Rahesh\", \"Pavan\", \"Rakshith\"]\n",
    "\n",
    "for student in range(0,len(students)):\n",
    "    if(student==2):\n",
    "        continue\n",
    "    else:\n",
    "        print(students[student])\n",
    "       \n",
    "            \n",
    "\n"
   ]
  },
  {
   "cell_type": "markdown",
   "id": "85c52287",
   "metadata": {},
   "source": [
    "# Task 10.2\n",
    "\n",
    "What is pass keyword, with example"
   ]
  },
  {
   "cell_type": "markdown",
   "id": "4dd35496",
   "metadata": {},
   "source": [
    "# Continue\n",
    "pass keyword does nothing but you can avoid getting an error when empty code is not allowed. Empty code is not allowed in loops,if else conditions,functions,Classes etc"
   ]
  },
  {
   "cell_type": "code",
   "execution_count": 8,
   "id": "25477330",
   "metadata": {},
   "outputs": [],
   "source": [
    "a=10\n",
    "b=6\n",
    "\n",
    "if (a>b):\n",
    "    pass"
   ]
  },
  {
   "cell_type": "code",
   "execution_count": null,
   "id": "cefa5006",
   "metadata": {},
   "outputs": [],
   "source": []
  }
 ],
 "metadata": {
  "kernelspec": {
   "display_name": "Python 3",
   "language": "python",
   "name": "python3"
  },
  "language_info": {
   "codemirror_mode": {
    "name": "ipython",
    "version": 3
   },
   "file_extension": ".py",
   "mimetype": "text/x-python",
   "name": "python",
   "nbconvert_exporter": "python",
   "pygments_lexer": "ipython3",
   "version": "3.8.8"
  }
 },
 "nbformat": 4,
 "nbformat_minor": 5
}
