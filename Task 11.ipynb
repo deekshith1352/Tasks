{
 "cells": [
  {
   "cell_type": "markdown",
   "id": "298613b2",
   "metadata": {},
   "source": [
    "# Task 11\n"
   ]
  },
  {
   "cell_type": "code",
   "execution_count": null,
   "id": "d2a3a41a",
   "metadata": {},
   "outputs": [],
   "source": []
  },
  {
   "cell_type": "markdown",
   "id": "a81bb954",
   "metadata": {},
   "source": [
    "# Task 11.1\n",
    "\n",
    "Explain Return Keyword with example?\n"
   ]
  },
  {
   "cell_type": "markdown",
   "id": "33de8967",
   "metadata": {},
   "source": [
    "# Return\n",
    "\n",
    "\n",
    "    return keyword can be used to return values from a function\n",
    "    it can be used to end the execution of a function\n",
    "    statements below return keyword will not get executed\n"
   ]
  },
  {
   "cell_type": "code",
   "execution_count": 4,
   "id": "f5a17fd3",
   "metadata": {},
   "outputs": [
    {
     "data": {
      "text/plain": [
       "100"
      ]
     },
     "execution_count": 4,
     "metadata": {},
     "output_type": "execute_result"
    }
   ],
   "source": [
    "def mul(x,y):\n",
    "    m=x*y\n",
    "    return m\n",
    "    mul=mul+15   # this will not be executed\n",
    "\n",
    "mul(10,10)\n"
   ]
  },
  {
   "cell_type": "markdown",
   "id": "29b9b19b",
   "metadata": {},
   "source": [
    "# Task 11.2"
   ]
  },
  {
   "cell_type": "markdown",
   "id": "359628d5",
   "metadata": {},
   "source": [
    "\n",
    "    Ask 2 numbers from users and store it in num1 and num2\n",
    "    Ask user to press 1 for addition,2 for subtraction,3 for multiplication and 4 for division\n",
    "    create 4 seperate functions for each operation (i.e. addition,subtraction,multiplication and division)\n",
    "    based on number given by user,call that perticular function and print the output\n"
   ]
  },
  {
   "cell_type": "code",
   "execution_count": 6,
   "id": "3846c121",
   "metadata": {},
   "outputs": [
    {
     "name": "stdout",
     "output_type": "stream",
     "text": [
      "Enter the first number:5\n",
      "Enter the second number:5\n",
      "Enter 1 for Addition of numbers\n",
      "Enter 2 for Subtraction of numbers\n",
      "Enter 3 for Multiply numbers\n",
      "Enter 4 for Division of numbers\n",
      "3\n",
      "25\n"
     ]
    }
   ],
   "source": [
    "n1= int(input(\"Enter the first number:\"))\n",
    "n2= int(input(\"Enter the second number:\"))\n",
    "\n",
    "print(\"Enter 1 for Addition of numbers\")\n",
    "print(\"Enter 2 for Subtraction of numbers\")\n",
    "print(\"Enter 3 for Multiply numbers\")\n",
    "print(\"Enter 4 for Division of numbers\")\n",
    "\n",
    "n3=input()\n",
    "\n",
    "def add(n1,n2):\n",
    "    Output=n1+n2\n",
    "    print(Output)\n",
    "    \n",
    "def Sub(n1,n2):\n",
    "    Output=n1-n2\n",
    "    print(Output)\n",
    "def Mul(n1,n2):\n",
    "    Output=n1*n2\n",
    "    print(Output)\n",
    "def Div(n1,n2):\n",
    "    Output=n1/n2\n",
    "    print(Output)\n",
    "\n",
    "if n3=='1':\n",
    "    add(n1,n2)\n",
    "    \n",
    "elif n3=='2':\n",
    "    Sub(n1,n2)\n",
    "    \n",
    "elif n3=='3':\n",
    "    Mul(n1,n2)\n",
    "elif n3=='4':\n",
    "    Div(n1,n2)\n",
    "else:\n",
    "    print(\"\\nInvalid Operator!\")"
   ]
  },
  {
   "cell_type": "code",
   "execution_count": null,
   "id": "ce01c0ad",
   "metadata": {},
   "outputs": [],
   "source": []
  }
 ],
 "metadata": {
  "kernelspec": {
   "display_name": "Python 3",
   "language": "python",
   "name": "python3"
  },
  "language_info": {
   "codemirror_mode": {
    "name": "ipython",
    "version": 3
   },
   "file_extension": ".py",
   "mimetype": "text/x-python",
   "name": "python",
   "nbconvert_exporter": "python",
   "pygments_lexer": "ipython3",
   "version": "3.8.8"
  }
 },
 "nbformat": 4,
 "nbformat_minor": 5
}
